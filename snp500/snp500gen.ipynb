{
 "cells": [
  {
   "cell_type": "code",
   "execution_count": 1,
   "metadata": {},
   "outputs": [
    {
     "name": "stderr",
     "output_type": "stream",
     "text": [
      "/usr/local/lib/python2.7/dist-packages/bs4/__init__.py:181: UserWarning: No parser was explicitly specified, so I'm using the best available HTML parser for this system (\"lxml\"). This usually isn't a problem, but if you run this code on another system, or in a different virtual environment, it may use a different parser and behave differently.\n",
      "\n",
      "The code that caused this warning is on line 174 of the file /usr/lib/python2.7/runpy.py. To get rid of this warning, change code that looks like this:\n",
      "\n",
      " BeautifulSoup(YOUR_MARKUP})\n",
      "\n",
      "to this:\n",
      "\n",
      " BeautifulSoup(YOUR_MARKUP, \"lxml\")\n",
      "\n",
      "  markup_type=markup_type))\n"
     ]
    },
    {
     "name": "stdout",
     "output_type": "stream",
     "text": [
      "Downloading data from Yahoo for industrials sector\n",
      "Downloading data from Yahoo for energy sector\n",
      "Downloading data from Yahoo for consumer_discretionary sector\n",
      "Downloading data from Yahoo for utilities sector\n",
      "Downloading data from Yahoo for telecommunication_services sector\n",
      "Downloading data from Yahoo for materials sector\n",
      "Downloading data from Yahoo for health_care sector\n",
      "Downloading data from Yahoo for real_estate sector\n",
      "Downloading data from Yahoo for consumer_staples sector\n"
     ]
    },
    {
     "name": "stderr",
     "output_type": "stream",
     "text": [
      "/usr/local/lib/python2.7/dist-packages/pandas_datareader/yahoo/daily.py:136: SymbolWarning: Failed to read symbol: 'BF.B', replacing with NaN.\n",
      "  warnings.warn(msg.format(sym), SymbolWarning)\n"
     ]
    },
    {
     "name": "stdout",
     "output_type": "stream",
     "text": [
      "Downloading data from Yahoo for financials sector\n"
     ]
    },
    {
     "name": "stderr",
     "output_type": "stream",
     "text": [
      "/usr/local/lib/python2.7/dist-packages/pandas_datareader/yahoo/daily.py:136: SymbolWarning: Failed to read symbol: 'BRK.B', replacing with NaN.\n",
      "  warnings.warn(msg.format(sym), SymbolWarning)\n"
     ]
    },
    {
     "name": "stdout",
     "output_type": "stream",
     "text": [
      "Downloading data from Yahoo for information_technology sector\n",
      "Finished downloading data\n"
     ]
    },
    {
     "name": "stderr",
     "output_type": "stream",
     "text": [
      "/usr/local/lib/python2.7/dist-packages/IPython/core/interactiveshell.py:2822: FutureWarning: get_store is deprecated and be removed in a future version\n",
      "HDFStore(path, **kwargs) is the replacement\n",
      "  if self.run_code(code, result):\n"
     ]
    }
   ],
   "source": [
    "#!/usr/bin/env python\n",
    "\n",
    "import urllib2\n",
    "import pytz\n",
    "import pandas as pd\n",
    "\n",
    "from bs4 import BeautifulSoup\n",
    "from datetime import datetime\n",
    "from pandas_datareader import data, wb\n",
    "\n",
    "SITE = \"http://en.wikipedia.org/wiki/List_of_S%26P_500_companies\"\n",
    "START = datetime(1900, 1, 1, 0, 0, 0, 0, pytz.utc)\n",
    "END = datetime.today().utcnow()\n",
    "\n",
    "\n",
    "def scrape_list(site):\n",
    "    hdr = {'User-Agent': 'Mozilla/5.0'}\n",
    "    req = urllib2.Request(site, headers=hdr)\n",
    "    page = urllib2.urlopen(req)\n",
    "    soup = BeautifulSoup(page)\n",
    "\n",
    "    table = soup.find('table', {'class': 'wikitable sortable'})\n",
    "    sector_tickers = dict()\n",
    "    for row in table.findAll('tr'):\n",
    "        col = row.findAll('td')\n",
    "        if len(col) > 0:\n",
    "            sector = str(col[3].string.strip()).lower().replace(' ', '_')\n",
    "            ticker = str(col[0].string.strip())\n",
    "            if sector not in sector_tickers:\n",
    "                sector_tickers[sector] = list()\n",
    "            sector_tickers[sector].append(ticker)\n",
    "    return sector_tickers\n",
    "\n",
    "\n",
    "def download_ohlc(sector_tickers, start, end):\n",
    "    sector_ohlc = {}\n",
    "    for sector, tickers in sector_tickers.iteritems():\n",
    "        print 'Downloading data from Yahoo for %s sector' % sector\n",
    "        data1 = data.DataReader(tickers, 'yahoo', start, end)\n",
    "        for item in ['Open', 'High', 'Low']:\n",
    "            data1[item] = data1[item] * data1['Adj Close'] / data1['Close']\n",
    "        data1.rename(items={'Open': 'open', 'High': 'high', 'Low': 'low',\n",
    "                           'Adj Close': 'close', 'Volume': 'volume'},\n",
    "                    inplace=True)\n",
    "        data1.drop(['Close'], inplace=True)\n",
    "        sector_ohlc[sector] = data1\n",
    "    print 'Finished downloading data'\n",
    "    return sector_ohlc\n",
    "\n",
    "\n",
    "def store_HDF5(sector_ohlc, path):\n",
    "    with pd.get_store(path) as store:\n",
    "        for sector, ohlc in sector_ohlc.iteritems():\n",
    "            store[sector] = ohlc\n",
    "\n",
    "\n",
    "def get_snp500():\n",
    "    sector_tickers = scrape_list(SITE)\n",
    "    sector_ohlc = download_ohlc(sector_tickers, START, END)\n",
    "    store_HDF5(sector_ohlc, 'snp500.h5')\n",
    "\n",
    "\n",
    "if __name__ == '__main__':\n",
    "    get_snp500()"
   ]
  },
  {
   "cell_type": "code",
   "execution_count": null,
   "metadata": {},
   "outputs": [],
   "source": []
  },
  {
   "cell_type": "code",
   "execution_count": null,
   "metadata": {},
   "outputs": [],
   "source": []
  }
 ],
 "metadata": {
  "kernelspec": {
   "display_name": "Python 2",
   "language": "python",
   "name": "python2"
  },
  "language_info": {
   "codemirror_mode": {
    "name": "ipython",
    "version": 2
   },
   "file_extension": ".py",
   "mimetype": "text/x-python",
   "name": "python",
   "nbconvert_exporter": "python",
   "pygments_lexer": "ipython2",
   "version": "2.7.12"
  }
 },
 "nbformat": 4,
 "nbformat_minor": 2
}
